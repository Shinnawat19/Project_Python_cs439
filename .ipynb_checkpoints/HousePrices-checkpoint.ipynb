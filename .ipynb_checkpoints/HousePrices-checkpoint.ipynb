{
 "cells": [
  {
   "cell_type": "markdown",
   "metadata": {
    "collapsed": true
   },
   "source": [
    "# House Prices\n",
    "\n",
    "### Predict sales prices and practice feature engineering\n"
   ]
  },
  {
   "cell_type": "markdown",
   "metadata": {},
   "source": [
    "## Data fields\n",
    "\n",
    "###### SalePrice - the property's sale price in dollars. This is the target variable that you're trying to predict.\n",
    "\n",
    "###### MSSubClass: The building class\n",
    "\n",
    "###### MSZoning: The general zoning classification\n",
    "\n",
    "###### LotFrontage: Linear feet of street connected to property\n",
    "\n",
    "###### LotArea: Lot size in square feet\n",
    "\n",
    "###### Street: Type of road access\n",
    "\n",
    "###### Alley: Type of alley access\n",
    "\n",
    "###### LotShape: General shape of property\n",
    "\n",
    "###### LandContour: Flatness of the property\n",
    "\n",
    "###### Utilities: Type of utilities available\n",
    "\n",
    "###### LotConfig: Lot configuration\n",
    "\n",
    "###### LandSlope: Slope of property\n",
    "\n",
    "###### Neighborhood: Physical locations within Ames city limits\n",
    "\n",
    "###### Condition1: Proximity to main road or railroad\n",
    "\n",
    "###### Condition2: Proximity to main road or railroad (if a second is present)\n",
    "\n",
    "###### BldgType: Type of dwelling\n",
    "\n",
    "###### HouseStyle: Style of dwelling\n",
    "\n",
    "###### OverallQual: Overall material and finish quality\n",
    "\n",
    "###### OverallCond: Overall condition rating\n",
    "\n",
    "###### YearBuilt: Original construction date\n",
    "\n",
    "###### YearRemodAdd: Remodel date\n",
    "\n",
    "###### RoofStyle: Type of roof\n",
    "\n",
    "###### RoofMatl: Roof material\n",
    "\n",
    "###### Exterior1st: Exterior covering on house\n",
    "\n",
    "###### Exterior2nd: Exterior covering on house (if more than one material)\n",
    "\n",
    "###### MasVnrType: Masonry veneer type\n",
    "\n",
    "###### MasVnrArea: Masonry veneer area in square feet\n",
    "\n",
    "###### ExterQual: Exterior material quality\n",
    "\n",
    "###### ExterCond: Present condition of the material on the exterior\n",
    "\n",
    "###### Foundation: Type of foundation\n",
    "\n",
    "###### BsmtQual: Height of the basement\n",
    "\n",
    "###### BsmtCond: General condition of the basement\n",
    "\n",
    "###### BsmtExposure: Walkout or garden level basement walls\n",
    "\n",
    "###### BsmtFinType1: Quality of basement finished area\n",
    "\n",
    "###### BsmtFinSF1: Type 1 finished square feet\n",
    "\n",
    "###### BsmtFinType2: Quality of second finished area (if present)\n",
    "\n",
    "###### BsmtFinSF2: Type 2 finished square feet\n",
    "\n",
    "###### BsmtUnfSF: Unfinished square feet of basement area\n",
    "\n",
    "###### TotalBsmtSF: Total square feet of basement area\n",
    "\n",
    "###### Heating: Type of heating\n",
    "\n",
    "###### HeatingQC: Heating quality and condition\n",
    "\n",
    "###### CentralAir: Central air conditioning\n",
    "\n",
    "###### Electrical: Electrical system\n",
    "\n",
    "###### 1stFlrSF: First Floor square feet\n",
    "\n",
    "###### 2ndFlrSF: Second floor square feet\n",
    "\n",
    "###### LowQualFinSF: Low quality finished square feet (all floors)\n",
    "\n",
    "###### GrLivArea: Above grade (ground) living area square feet\n",
    "\n",
    "###### BsmtFullBath: Basement full bathrooms\n",
    "\n",
    "###### BsmtHalfBath: Basement half bathrooms\n",
    "\n",
    "###### FullBath: Full bathrooms above grade\n",
    "\n",
    "###### HalfBath: Half baths above grade\n",
    "\n",
    "###### Bedroom: Number of bedrooms above basement level\n",
    "\n",
    "###### Kitchen: Number of kitchens\n",
    "\n",
    "###### KitchenQual: Kitchen quality\n",
    "\n",
    "###### TotRmsAbvGrd: Total rooms above grade (does not include bathrooms)\n",
    "\n",
    "###### Functional: Home functionality rating\n",
    "\n",
    "###### Fireplaces: Number of fireplaces\n",
    "\n",
    "###### FireplaceQu: Fireplace quality\n",
    "\n",
    "###### GarageType: Garage location\n",
    "\n",
    "###### GarageYrBlt: Year garage was built\n",
    "\n",
    "###### GarageFinish: Interior finish of the garage\n",
    "\n",
    "###### GarageCars: Size of garage in car capacity\n",
    "\n",
    "###### GarageArea: Size of garage in square feet\n",
    "\n",
    "###### GarageQual: Garage quality\n",
    "\n",
    "###### GarageCond: Garage condition\n",
    "\n",
    "###### PavedDrive: Paved driveway\n",
    "\n",
    "###### WoodDeckSF: Wood deck area in square feet\n",
    "\n",
    "###### OpenPorchSF: Open porch area in square feet\n",
    "\n",
    "###### EnclosedPorch: Enclosed porch area in square feet\n",
    "\n",
    "###### 3SsnPorch: Three season porch area in square feet\n",
    "\n",
    "###### ScreenPorch: Screen porch area in square feet\n",
    "\n",
    "###### PoolArea: Pool area in square feet\n",
    "\n",
    "###### PoolQC: Pool quality\n",
    "\n",
    "###### Fence: Fence quality\n",
    "\n",
    "###### MiscFeature: Miscellaneous feature not covered in other categories\n",
    "\n",
    "###### MiscVal: $Value of miscellaneous feature\n",
    "\n",
    "###### MoSold: Month Sold\n",
    "\n",
    "###### YrSold: Year Sold\n",
    "\n",
    "###### SaleType: Type of sale\n",
    "\n",
    "###### SaleCondition: Condition of sale"
   ]
  },
  {
   "cell_type": "markdown",
   "metadata": {},
   "source": [
    "# Import Module"
   ]
  },
  {
   "cell_type": "code",
   "execution_count": 1,
   "metadata": {
    "collapsed": true
   },
   "outputs": [],
   "source": [
    "%matplotlib inline\n",
    "\n",
    "import matplotlib.pyplot as plt\n",
    "import pandas as pd\n",
    "\n",
    "plt.style.use('ggplot')"
   ]
  },
  {
   "cell_type": "markdown",
   "metadata": {},
   "source": [
    "# Load Data to Dataframe"
   ]
  },
  {
   "cell_type": "code",
   "execution_count": 2,
   "metadata": {
    "collapsed": false
   },
   "outputs": [],
   "source": [
    "df=pd.read_csv('train.csv')"
   ]
  },
  {
   "cell_type": "code",
   "execution_count": 3,
   "metadata": {
    "collapsed": false,
    "scrolled": true
   },
   "outputs": [
    {
     "data": {
      "text/html": [
       "<div>\n",
       "<table border=\"1\" class=\"dataframe\">\n",
       "  <thead>\n",
       "    <tr style=\"text-align: right;\">\n",
       "      <th></th>\n",
       "      <th>SalePrice</th>\n",
       "      <th>Id</th>\n",
       "      <th>MSSubClass</th>\n",
       "      <th>MSZoning</th>\n",
       "      <th>LotFrontage</th>\n",
       "      <th>LotArea</th>\n",
       "      <th>Street</th>\n",
       "      <th>Alley</th>\n",
       "      <th>LotShape</th>\n",
       "      <th>LandContour</th>\n",
       "      <th>...</th>\n",
       "      <th>ScreenPorch</th>\n",
       "      <th>PoolArea</th>\n",
       "      <th>PoolQC</th>\n",
       "      <th>Fence</th>\n",
       "      <th>MiscFeature</th>\n",
       "      <th>MiscVal</th>\n",
       "      <th>MoSold</th>\n",
       "      <th>YrSold</th>\n",
       "      <th>SaleType</th>\n",
       "      <th>SaleCondition</th>\n",
       "    </tr>\n",
       "  </thead>\n",
       "  <tbody>\n",
       "    <tr>\n",
       "      <th>0</th>\n",
       "      <td>208500</td>\n",
       "      <td>1</td>\n",
       "      <td>60</td>\n",
       "      <td>RL</td>\n",
       "      <td>65.0</td>\n",
       "      <td>8450</td>\n",
       "      <td>Pave</td>\n",
       "      <td>NaN</td>\n",
       "      <td>Reg</td>\n",
       "      <td>Lvl</td>\n",
       "      <td>...</td>\n",
       "      <td>0</td>\n",
       "      <td>0</td>\n",
       "      <td>NaN</td>\n",
       "      <td>NaN</td>\n",
       "      <td>NaN</td>\n",
       "      <td>0</td>\n",
       "      <td>2</td>\n",
       "      <td>2008</td>\n",
       "      <td>WD</td>\n",
       "      <td>Normal</td>\n",
       "    </tr>\n",
       "    <tr>\n",
       "      <th>1</th>\n",
       "      <td>181500</td>\n",
       "      <td>2</td>\n",
       "      <td>20</td>\n",
       "      <td>RL</td>\n",
       "      <td>80.0</td>\n",
       "      <td>9600</td>\n",
       "      <td>Pave</td>\n",
       "      <td>NaN</td>\n",
       "      <td>Reg</td>\n",
       "      <td>Lvl</td>\n",
       "      <td>...</td>\n",
       "      <td>0</td>\n",
       "      <td>0</td>\n",
       "      <td>NaN</td>\n",
       "      <td>NaN</td>\n",
       "      <td>NaN</td>\n",
       "      <td>0</td>\n",
       "      <td>5</td>\n",
       "      <td>2007</td>\n",
       "      <td>WD</td>\n",
       "      <td>Normal</td>\n",
       "    </tr>\n",
       "    <tr>\n",
       "      <th>2</th>\n",
       "      <td>223500</td>\n",
       "      <td>3</td>\n",
       "      <td>60</td>\n",
       "      <td>RL</td>\n",
       "      <td>68.0</td>\n",
       "      <td>11250</td>\n",
       "      <td>Pave</td>\n",
       "      <td>NaN</td>\n",
       "      <td>IR1</td>\n",
       "      <td>Lvl</td>\n",
       "      <td>...</td>\n",
       "      <td>0</td>\n",
       "      <td>0</td>\n",
       "      <td>NaN</td>\n",
       "      <td>NaN</td>\n",
       "      <td>NaN</td>\n",
       "      <td>0</td>\n",
       "      <td>9</td>\n",
       "      <td>2008</td>\n",
       "      <td>WD</td>\n",
       "      <td>Normal</td>\n",
       "    </tr>\n",
       "    <tr>\n",
       "      <th>3</th>\n",
       "      <td>140000</td>\n",
       "      <td>4</td>\n",
       "      <td>70</td>\n",
       "      <td>RL</td>\n",
       "      <td>60.0</td>\n",
       "      <td>9550</td>\n",
       "      <td>Pave</td>\n",
       "      <td>NaN</td>\n",
       "      <td>IR1</td>\n",
       "      <td>Lvl</td>\n",
       "      <td>...</td>\n",
       "      <td>0</td>\n",
       "      <td>0</td>\n",
       "      <td>NaN</td>\n",
       "      <td>NaN</td>\n",
       "      <td>NaN</td>\n",
       "      <td>0</td>\n",
       "      <td>2</td>\n",
       "      <td>2006</td>\n",
       "      <td>WD</td>\n",
       "      <td>Abnorml</td>\n",
       "    </tr>\n",
       "    <tr>\n",
       "      <th>4</th>\n",
       "      <td>250000</td>\n",
       "      <td>5</td>\n",
       "      <td>60</td>\n",
       "      <td>RL</td>\n",
       "      <td>84.0</td>\n",
       "      <td>14260</td>\n",
       "      <td>Pave</td>\n",
       "      <td>NaN</td>\n",
       "      <td>IR1</td>\n",
       "      <td>Lvl</td>\n",
       "      <td>...</td>\n",
       "      <td>0</td>\n",
       "      <td>0</td>\n",
       "      <td>NaN</td>\n",
       "      <td>NaN</td>\n",
       "      <td>NaN</td>\n",
       "      <td>0</td>\n",
       "      <td>12</td>\n",
       "      <td>2008</td>\n",
       "      <td>WD</td>\n",
       "      <td>Normal</td>\n",
       "    </tr>\n",
       "  </tbody>\n",
       "</table>\n",
       "<p>5 rows × 81 columns</p>\n",
       "</div>"
      ],
      "text/plain": [
       "   SalePrice  Id  MSSubClass MSZoning  LotFrontage  LotArea Street Alley  \\\n",
       "0     208500   1          60       RL         65.0     8450   Pave   NaN   \n",
       "1     181500   2          20       RL         80.0     9600   Pave   NaN   \n",
       "2     223500   3          60       RL         68.0    11250   Pave   NaN   \n",
       "3     140000   4          70       RL         60.0     9550   Pave   NaN   \n",
       "4     250000   5          60       RL         84.0    14260   Pave   NaN   \n",
       "\n",
       "  LotShape LandContour      ...       ScreenPorch PoolArea PoolQC Fence  \\\n",
       "0      Reg         Lvl      ...                 0        0    NaN   NaN   \n",
       "1      Reg         Lvl      ...                 0        0    NaN   NaN   \n",
       "2      IR1         Lvl      ...                 0        0    NaN   NaN   \n",
       "3      IR1         Lvl      ...                 0        0    NaN   NaN   \n",
       "4      IR1         Lvl      ...                 0        0    NaN   NaN   \n",
       "\n",
       "  MiscFeature MiscVal MoSold YrSold  SaleType  SaleCondition  \n",
       "0         NaN       0      2   2008        WD         Normal  \n",
       "1         NaN       0      5   2007        WD         Normal  \n",
       "2         NaN       0      9   2008        WD         Normal  \n",
       "3         NaN       0      2   2006        WD        Abnorml  \n",
       "4         NaN       0     12   2008        WD         Normal  \n",
       "\n",
       "[5 rows x 81 columns]"
      ]
     },
     "execution_count": 3,
     "metadata": {},
     "output_type": "execute_result"
    }
   ],
   "source": [
    "df.head()"
   ]
  },
  {
   "cell_type": "markdown",
   "metadata": {},
   "source": [
    "# Show list of column names"
   ]
  },
  {
   "cell_type": "code",
   "execution_count": 4,
   "metadata": {
    "collapsed": false
   },
   "outputs": [
    {
     "data": {
      "text/plain": [
       "Index([u'SalePrice', u'Id', u'MSSubClass', u'MSZoning', u'LotFrontage',\n",
       "       u'LotArea', u'Street', u'Alley', u'LotShape', u'LandContour',\n",
       "       u'Utilities', u'LotConfig', u'LandSlope', u'Neighborhood',\n",
       "       u'Condition1', u'Condition2', u'BldgType', u'HouseStyle',\n",
       "       u'OverallQual', u'OverallCond', u'YearBuilt', u'YearRemodAdd',\n",
       "       u'RoofStyle', u'RoofMatl', u'Exterior1st', u'Exterior2nd',\n",
       "       u'MasVnrType', u'MasVnrArea', u'ExterQual', u'ExterCond', u'Foundation',\n",
       "       u'BsmtQual', u'BsmtCond', u'BsmtExposure', u'BsmtFinType1',\n",
       "       u'BsmtFinSF1', u'BsmtFinType2', u'BsmtFinSF2', u'BsmtUnfSF',\n",
       "       u'TotalBsmtSF', u'Heating', u'HeatingQC', u'CentralAir', u'Electrical',\n",
       "       u'1stFlrSF', u'2ndFlrSF', u'LowQualFinSF', u'GrLivArea',\n",
       "       u'BsmtFullBath', u'BsmtHalfBath', u'FullBath', u'HalfBath',\n",
       "       u'BedroomAbvGr', u'KitchenAbvGr', u'KitchenQual', u'TotRmsAbvGrd',\n",
       "       u'Functional', u'Fireplaces', u'FireplaceQu', u'GarageType',\n",
       "       u'GarageYrBlt', u'GarageFinish', u'GarageCars', u'GarageArea',\n",
       "       u'GarageQual', u'GarageCond', u'PavedDrive', u'WoodDeckSF',\n",
       "       u'OpenPorchSF', u'EnclosedPorch', u'3SsnPorch', u'ScreenPorch',\n",
       "       u'PoolArea', u'PoolQC', u'Fence', u'MiscFeature', u'MiscVal', u'MoSold',\n",
       "       u'YrSold', u'SaleType', u'SaleCondition'],\n",
       "      dtype='object')"
      ]
     },
     "execution_count": 4,
     "metadata": {},
     "output_type": "execute_result"
    }
   ],
   "source": [
    "df.keys()"
   ]
  },
  {
   "cell_type": "markdown",
   "metadata": {},
   "source": [
    "# Histogram"
   ]
  },
  {
   "cell_type": "code",
   "execution_count": 5,
   "metadata": {
    "collapsed": false
   },
   "outputs": [
    {
     "data": {
      "text/plain": [
       "array([[<matplotlib.axes._subplots.AxesSubplot object at 0x000000000A146978>,\n",
       "        <matplotlib.axes._subplots.AxesSubplot object at 0x000000000A308EB8>,\n",
       "        <matplotlib.axes._subplots.AxesSubplot object at 0x000000000A328128>,\n",
       "        <matplotlib.axes._subplots.AxesSubplot object at 0x000000000A4899B0>,\n",
       "        <matplotlib.axes._subplots.AxesSubplot object at 0x000000000A59B4E0>,\n",
       "        <matplotlib.axes._subplots.AxesSubplot object at 0x000000000A682EB8>],\n",
       "       [<matplotlib.axes._subplots.AxesSubplot object at 0x000000000A7919E8>,\n",
       "        <matplotlib.axes._subplots.AxesSubplot object at 0x000000000A80E128>,\n",
       "        <matplotlib.axes._subplots.AxesSubplot object at 0x000000000A90CC18>,\n",
       "        <matplotlib.axes._subplots.AxesSubplot object at 0x000000000A9C4320>,\n",
       "        <matplotlib.axes._subplots.AxesSubplot object at 0x000000000AACBF60>,\n",
       "        <matplotlib.axes._subplots.AxesSubplot object at 0x000000000AB818D0>],\n",
       "       [<matplotlib.axes._subplots.AxesSubplot object at 0x000000000B1BB630>,\n",
       "        <matplotlib.axes._subplots.AxesSubplot object at 0x000000000AB90CC0>,\n",
       "        <matplotlib.axes._subplots.AxesSubplot object at 0x000000000B372E10>,\n",
       "        <matplotlib.axes._subplots.AxesSubplot object at 0x000000000B3AB780>,\n",
       "        <matplotlib.axes._subplots.AxesSubplot object at 0x000000000B4EABA8>,\n",
       "        <matplotlib.axes._subplots.AxesSubplot object at 0x000000000B5F76D8>],\n",
       "       [<matplotlib.axes._subplots.AxesSubplot object at 0x000000000B6AB550>,\n",
       "        <matplotlib.axes._subplots.AxesSubplot object at 0x000000000B7CA080>,\n",
       "        <matplotlib.axes._subplots.AxesSubplot object at 0x000000000B8718D0>,\n",
       "        <matplotlib.axes._subplots.AxesSubplot object at 0x000000000B93B550>,\n",
       "        <matplotlib.axes._subplots.AxesSubplot object at 0x000000000A7AEBE0>,\n",
       "        <matplotlib.axes._subplots.AxesSubplot object at 0x000000000BAE2128>],\n",
       "       [<matplotlib.axes._subplots.AxesSubplot object at 0x000000000BB4CB38>,\n",
       "        <matplotlib.axes._subplots.AxesSubplot object at 0x000000000BCF06D8>,\n",
       "        <matplotlib.axes._subplots.AxesSubplot object at 0x000000000BD78080>,\n",
       "        <matplotlib.axes._subplots.AxesSubplot object at 0x000000000BE619B0>,\n",
       "        <matplotlib.axes._subplots.AxesSubplot object at 0x000000000BF6E400>,\n",
       "        <matplotlib.axes._subplots.AxesSubplot object at 0x000000000C014DD8>],\n",
       "       [<matplotlib.axes._subplots.AxesSubplot object at 0x000000000C1129B0>,\n",
       "        <matplotlib.axes._subplots.AxesSubplot object at 0x000000000C209320>,\n",
       "        <matplotlib.axes._subplots.AxesSubplot object at 0x000000000C2C4EB8>,\n",
       "        <matplotlib.axes._subplots.AxesSubplot object at 0x000000000C37C8D0>,\n",
       "        <matplotlib.axes._subplots.AxesSubplot object at 0x000000000C4CB6D8>,\n",
       "        <matplotlib.axes._subplots.AxesSubplot object at 0x000000000C4428D0>],\n",
       "       [<matplotlib.axes._subplots.AxesSubplot object at 0x000000000C691E10>,\n",
       "        <matplotlib.axes._subplots.AxesSubplot object at 0x000000000C7667B8>,\n",
       "        <matplotlib.axes._subplots.AxesSubplot object at 0x000000000C85C400>,\n",
       "        <matplotlib.axes._subplots.AxesSubplot object at 0x000000000C96DD68>,\n",
       "        <matplotlib.axes._subplots.AxesSubplot object at 0x000000000CA225F8>,\n",
       "        <matplotlib.axes._subplots.AxesSubplot object at 0x000000000CAF0128>]], dtype=object)"
      ]
     },
     "execution_count": 5,
     "metadata": {},
     "output_type": "execute_result"
    },
    {
     "data": {
      "image/png": "[encoded data removed]",
      "text/plain": [
       "<matplotlib.figure.Figure at 0xa146f28>"
      ]
     },
     "metadata": {},
     "output_type": "display_data"
    }
   ],
   "source": [
    "df.hist( figsize=(20, 20))"
   ]
  },
  {
   "cell_type": "markdown",
   "metadata": {},
   "source": [
    "# Statistic"
   ]
  },
  {
   "cell_type": "code",
   "execution_count": 6,
   "metadata": {
    "collapsed": false
   },
   "outputs": [
    {
     "data": {
      "text/html": [
       "<div>\n",
       "<table border=\"1\" class=\"dataframe\">\n",
       "  <thead>\n",
       "    <tr style=\"text-align: right;\">\n",
       "      <th></th>\n",
       "      <th>SalePrice</th>\n",
       "      <th>Id</th>\n",
       "      <th>MSSubClass</th>\n",
       "      <th>LotFrontage</th>\n",
       "      <th>LotArea</th>\n",
       "      <th>OverallQual</th>\n",
       "      <th>OverallCond</th>\n",
       "      <th>YearBuilt</th>\n",
       "      <th>YearRemodAdd</th>\n",
       "      <th>MasVnrArea</th>\n",
       "      <th>...</th>\n",
       "      <th>GarageArea</th>\n",
       "      <th>WoodDeckSF</th>\n",
       "      <th>OpenPorchSF</th>\n",
       "      <th>EnclosedPorch</th>\n",
       "      <th>3SsnPorch</th>\n",
       "      <th>ScreenPorch</th>\n",
       "      <th>PoolArea</th>\n",
       "      <th>MiscVal</th>\n",
       "      <th>MoSold</th>\n",
       "      <th>YrSold</th>\n",
       "    </tr>\n",
       "  </thead>\n",
       "  <tbody>\n",
       "    <tr>\n",
       "      <th>count</th>\n",
       "      <td>999.000000</td>\n",
       "      <td>999.000000</td>\n",
       "      <td>999.000000</td>\n",
       "      <td>826.000000</td>\n",
       "      <td>999.000000</td>\n",
       "      <td>999.000000</td>\n",
       "      <td>999.000000</td>\n",
       "      <td>999.000000</td>\n",
       "      <td>999.000000</td>\n",
       "      <td>993.000000</td>\n",
       "      <td>...</td>\n",
       "      <td>999.000000</td>\n",
       "      <td>999.000000</td>\n",
       "      <td>999.000000</td>\n",
       "      <td>999.000000</td>\n",
       "      <td>999.000000</td>\n",
       "      <td>999.000000</td>\n",
       "      <td>999.000000</td>\n",
       "      <td>999.000000</td>\n",
       "      <td>999.000000</td>\n",
       "      <td>999.000000</td>\n",
       "    </tr>\n",
       "    <tr>\n",
       "      <th>mean</th>\n",
       "      <td>182260.711712</td>\n",
       "      <td>500.000000</td>\n",
       "      <td>56.916917</td>\n",
       "      <td>69.962470</td>\n",
       "      <td>10695.109109</td>\n",
       "      <td>6.124124</td>\n",
       "      <td>5.587588</td>\n",
       "      <td>1971.598599</td>\n",
       "      <td>1985.258258</td>\n",
       "      <td>109.311178</td>\n",
       "      <td>...</td>\n",
       "      <td>473.191191</td>\n",
       "      <td>97.345345</td>\n",
       "      <td>47.655656</td>\n",
       "      <td>21.434434</td>\n",
       "      <td>3.706707</td>\n",
       "      <td>15.070070</td>\n",
       "      <td>1.161161</td>\n",
       "      <td>45.429429</td>\n",
       "      <td>6.311311</td>\n",
       "      <td>2007.827828</td>\n",
       "    </tr>\n",
       "    <tr>\n",
       "      <th>std</th>\n",
       "      <td>80327.919925</td>\n",
       "      <td>288.530761</td>\n",
       "      <td>42.261403</td>\n",
       "      <td>23.215821</td>\n",
       "      <td>11417.706546</td>\n",
       "      <td>1.383632</td>\n",
       "      <td>1.109300</td>\n",
       "      <td>30.003240</td>\n",
       "      <td>20.411974</td>\n",
       "      <td>188.961644</td>\n",
       "      <td>...</td>\n",
       "      <td>208.945828</td>\n",
       "      <td>124.454384</td>\n",
       "      <td>68.021301</td>\n",
       "      <td>60.723143</td>\n",
       "      <td>30.930996</td>\n",
       "      <td>55.493478</td>\n",
       "      <td>26.116378</td>\n",
       "      <td>525.710557</td>\n",
       "      <td>2.688986</td>\n",
       "      <td>1.325859</td>\n",
       "    </tr>\n",
       "    <tr>\n",
       "      <th>min</th>\n",
       "      <td>34900.000000</td>\n",
       "      <td>1.000000</td>\n",
       "      <td>20.000000</td>\n",
       "      <td>21.000000</td>\n",
       "      <td>1300.000000</td>\n",
       "      <td>1.000000</td>\n",
       "      <td>1.000000</td>\n",
       "      <td>1880.000000</td>\n",
       "      <td>1950.000000</td>\n",
       "      <td>0.000000</td>\n",
       "      <td>...</td>\n",
       "      <td>0.000000</td>\n",
       "      <td>0.000000</td>\n",
       "      <td>0.000000</td>\n",
       "      <td>0.000000</td>\n",
       "      <td>0.000000</td>\n",
       "      <td>0.000000</td>\n",
       "      <td>0.000000</td>\n",
       "      <td>0.000000</td>\n",
       "      <td>1.000000</td>\n",
       "      <td>2006.000000</td>\n",
       "    </tr>\n",
       "    <tr>\n",
       "      <th>25%</th>\n",
       "      <td>130000.000000</td>\n",
       "      <td>250.500000</td>\n",
       "      <td>20.000000</td>\n",
       "      <td>60.000000</td>\n",
       "      <td>7589.000000</td>\n",
       "      <td>5.000000</td>\n",
       "      <td>5.000000</td>\n",
       "      <td>1954.000000</td>\n",
       "      <td>1967.000000</td>\n",
       "      <td>0.000000</td>\n",
       "      <td>...</td>\n",
       "      <td>338.000000</td>\n",
       "      <td>0.000000</td>\n",
       "      <td>0.000000</td>\n",
       "      <td>0.000000</td>\n",
       "      <td>0.000000</td>\n",
       "      <td>0.000000</td>\n",
       "      <td>0.000000</td>\n",
       "      <td>0.000000</td>\n",
       "      <td>5.000000</td>\n",
       "      <td>2007.000000</td>\n",
       "    </tr>\n",
       "    <tr>\n",
       "      <th>50%</th>\n",
       "      <td>163990.000000</td>\n",
       "      <td>500.000000</td>\n",
       "      <td>50.000000</td>\n",
       "      <td>70.000000</td>\n",
       "      <td>9452.000000</td>\n",
       "      <td>6.000000</td>\n",
       "      <td>5.000000</td>\n",
       "      <td>1974.000000</td>\n",
       "      <td>1994.000000</td>\n",
       "      <td>0.000000</td>\n",
       "      <td>...</td>\n",
       "      <td>480.000000</td>\n",
       "      <td>0.000000</td>\n",
       "      <td>24.000000</td>\n",
       "      <td>0.000000</td>\n",
       "      <td>0.000000</td>\n",
       "      <td>0.000000</td>\n",
       "      <td>0.000000</td>\n",
       "      <td>0.000000</td>\n",
       "      <td>6.000000</td>\n",
       "      <td>2008.000000</td>\n",
       "    </tr>\n",
       "    <tr>\n",
       "      <th>75%</th>\n",
       "      <td>215000.000000</td>\n",
       "      <td>749.500000</td>\n",
       "      <td>70.000000</td>\n",
       "      <td>80.000000</td>\n",
       "      <td>11632.000000</td>\n",
       "      <td>7.000000</td>\n",
       "      <td>6.000000</td>\n",
       "      <td>2000.000000</td>\n",
       "      <td>2004.000000</td>\n",
       "      <td>175.000000</td>\n",
       "      <td>...</td>\n",
       "      <td>576.000000</td>\n",
       "      <td>171.500000</td>\n",
       "      <td>70.000000</td>\n",
       "      <td>0.000000</td>\n",
       "      <td>0.000000</td>\n",
       "      <td>0.000000</td>\n",
       "      <td>0.000000</td>\n",
       "      <td>0.000000</td>\n",
       "      <td>8.000000</td>\n",
       "      <td>2009.000000</td>\n",
       "    </tr>\n",
       "    <tr>\n",
       "      <th>max</th>\n",
       "      <td>755000.000000</td>\n",
       "      <td>999.000000</td>\n",
       "      <td>190.000000</td>\n",
       "      <td>313.000000</td>\n",
       "      <td>215245.000000</td>\n",
       "      <td>10.000000</td>\n",
       "      <td>9.000000</td>\n",
       "      <td>2010.000000</td>\n",
       "      <td>2010.000000</td>\n",
       "      <td>1600.000000</td>\n",
       "      <td>...</td>\n",
       "      <td>1390.000000</td>\n",
       "      <td>857.000000</td>\n",
       "      <td>523.000000</td>\n",
       "      <td>552.000000</td>\n",
       "      <td>508.000000</td>\n",
       "      <td>410.000000</td>\n",
       "      <td>648.000000</td>\n",
       "      <td>15500.000000</td>\n",
       "      <td>12.000000</td>\n",
       "      <td>2010.000000</td>\n",
       "    </tr>\n",
       "  </tbody>\n",
       "</table>\n",
       "<p>8 rows × 38 columns</p>\n",
       "</div>"
      ],
      "text/plain": [
       "           SalePrice          Id  MSSubClass  LotFrontage        LotArea  \\\n",
       "count     999.000000  999.000000  999.000000   826.000000     999.000000   \n",
       "mean   182260.711712  500.000000   56.916917    69.962470   10695.109109   \n",
       "std     80327.919925  288.530761   42.261403    23.215821   11417.706546   \n",
       "min     34900.000000    1.000000   20.000000    21.000000    1300.000000   \n",
       "25%    130000.000000  250.500000   20.000000    60.000000    7589.000000   \n",
       "50%    163990.000000  500.000000   50.000000    70.000000    9452.000000   \n",
       "75%    215000.000000  749.500000   70.000000    80.000000   11632.000000   \n",
       "max    755000.000000  999.000000  190.000000   313.000000  215245.000000   \n",
       "\n",
       "       OverallQual  OverallCond    YearBuilt  YearRemodAdd   MasVnrArea  \\\n",
       "count   999.000000   999.000000   999.000000    999.000000   993.000000   \n",
       "mean      6.124124     5.587588  1971.598599   1985.258258   109.311178   \n",
       "std       1.383632     1.109300    30.003240     20.411974   188.961644   \n",
       "min       1.000000     1.000000  1880.000000   1950.000000     0.000000   \n",
       "25%       5.000000     5.000000  1954.000000   1967.000000     0.000000   \n",
       "50%       6.000000     5.000000  1974.000000   1994.000000     0.000000   \n",
       "75%       7.000000     6.000000  2000.000000   2004.000000   175.000000   \n",
       "max      10.000000     9.000000  2010.000000   2010.000000  1600.000000   \n",
       "\n",
       "          ...        GarageArea  WoodDeckSF  OpenPorchSF  EnclosedPorch  \\\n",
       "count     ...        999.000000  999.000000   999.000000     999.000000   \n",
       "mean      ...        473.191191   97.345345    47.655656      21.434434   \n",
       "std       ...        208.945828  124.454384    68.021301      60.723143   \n",
       "min       ...          0.000000    0.000000     0.000000       0.000000   \n",
       "25%       ...        338.000000    0.000000     0.000000       0.000000   \n",
       "50%       ...        480.000000    0.000000    24.000000       0.000000   \n",
       "75%       ...        576.000000  171.500000    70.000000       0.000000   \n",
       "max       ...       1390.000000  857.000000   523.000000     552.000000   \n",
       "\n",
       "        3SsnPorch  ScreenPorch    PoolArea       MiscVal      MoSold  \\\n",
       "count  999.000000   999.000000  999.000000    999.000000  999.000000   \n",
       "mean     3.706707    15.070070    1.161161     45.429429    6.311311   \n",
       "std     30.930996    55.493478   26.116378    525.710557    2.688986   \n",
       "min      0.000000     0.000000    0.000000      0.000000    1.000000   \n",
       "25%      0.000000     0.000000    0.000000      0.000000    5.000000   \n",
       "50%      0.000000     0.000000    0.000000      0.000000    6.000000   \n",
       "75%      0.000000     0.000000    0.000000      0.000000    8.000000   \n",
       "max    508.000000   410.000000  648.000000  15500.000000   12.000000   \n",
       "\n",
       "            YrSold  \n",
       "count   999.000000  \n",
       "mean   2007.827828  \n",
       "std       1.325859  \n",
       "min    2006.000000  \n",
       "25%    2007.000000  \n",
       "50%    2008.000000  \n",
       "75%    2009.000000  \n",
       "max    2010.000000  \n",
       "\n",
       "[8 rows x 38 columns]"
      ]
     },
     "execution_count": 6,
     "metadata": {},
     "output_type": "execute_result"
    }
   ],
   "source": [
    "df.describe()"
   ]
  },
  {
   "cell_type": "markdown",
   "metadata": {},
   "source": [
    "# Choose Column"
   ]
  },
  {
   "cell_type": "code",
   "execution_count": 7,
   "metadata": {
    "collapsed": false
   },
   "outputs": [],
   "source": [
    "col_list = [0,5,20,39,50,52,53,57,62,72,77,78]\n",
    "df2 = df[col_list]"
   ]
  },
  {
   "cell_type": "markdown",
   "metadata": {},
   "source": [
    "# We Choose\n",
    "\n",
    "###### SalePrice - the property's sale price in dollars. This is the target variable that you're trying to predict.\n",
    "\n",
    "###### LotArea: Lot size in square feet\n",
    "\n",
    "###### YearBuilt: Original construction date\n",
    "\n",
    "###### TotalBsmtSF: Total square feet of basement area\n",
    "\n",
    "###### FullBath: Full bathrooms above grade\n",
    "\n",
    "###### Bedroom: Number of bedrooms above basement level\n",
    "\n",
    "###### Kitchen: Number of kitchens\n",
    "\n",
    "###### Fireplaces: Number of fireplaces\n",
    "\n",
    "###### GarageCars: Size of garage in car capacity\n",
    "\n",
    "###### PoolArea: Pool area in square feet\n",
    "\n",
    "###### MoSold: Month Sold\n",
    "\n",
    "###### YrSold: Year Sold\n",
    "\n"
   ]
  },
  {
   "cell_type": "code",
   "execution_count": 8,
   "metadata": {
    "collapsed": false
   },
   "outputs": [
    {
     "data": {
      "text/html": [
       "<div>\n",
       "<table border=\"1\" class=\"dataframe\">\n",
       "  <thead>\n",
       "    <tr style=\"text-align: right;\">\n",
       "      <th></th>\n",
       "      <th>SalePrice</th>\n",
       "      <th>LotArea</th>\n",
       "      <th>YearBuilt</th>\n",
       "      <th>TotalBsmtSF</th>\n",
       "      <th>FullBath</th>\n",
       "      <th>BedroomAbvGr</th>\n",
       "      <th>KitchenAbvGr</th>\n",
       "      <th>Fireplaces</th>\n",
       "      <th>GarageCars</th>\n",
       "      <th>PoolArea</th>\n",
       "      <th>MoSold</th>\n",
       "      <th>YrSold</th>\n",
       "    </tr>\n",
       "  </thead>\n",
       "  <tbody>\n",
       "    <tr>\n",
       "      <th>0</th>\n",
       "      <td>208500</td>\n",
       "      <td>8450</td>\n",
       "      <td>2003</td>\n",
       "      <td>856</td>\n",
       "      <td>2</td>\n",
       "      <td>3</td>\n",
       "      <td>1</td>\n",
       "      <td>0</td>\n",
       "      <td>2</td>\n",
       "      <td>0</td>\n",
       "      <td>2</td>\n",
       "      <td>2008</td>\n",
       "    </tr>\n",
       "    <tr>\n",
       "      <th>1</th>\n",
       "      <td>181500</td>\n",
       "      <td>9600</td>\n",
       "      <td>1976</td>\n",
       "      <td>1262</td>\n",
       "      <td>2</td>\n",
       "      <td>3</td>\n",
       "      <td>1</td>\n",
       "      <td>1</td>\n",
       "      <td>2</td>\n",
       "      <td>0</td>\n",
       "      <td>5</td>\n",
       "      <td>2007</td>\n",
       "    </tr>\n",
       "    <tr>\n",
       "      <th>2</th>\n",
       "      <td>223500</td>\n",
       "      <td>11250</td>\n",
       "      <td>2001</td>\n",
       "      <td>920</td>\n",
       "      <td>2</td>\n",
       "      <td>3</td>\n",
       "      <td>1</td>\n",
       "      <td>1</td>\n",
       "      <td>2</td>\n",
       "      <td>0</td>\n",
       "      <td>9</td>\n",
       "      <td>2008</td>\n",
       "    </tr>\n",
       "    <tr>\n",
       "      <th>3</th>\n",
       "      <td>140000</td>\n",
       "      <td>9550</td>\n",
       "      <td>1915</td>\n",
       "      <td>756</td>\n",
       "      <td>1</td>\n",
       "      <td>3</td>\n",
       "      <td>1</td>\n",
       "      <td>1</td>\n",
       "      <td>3</td>\n",
       "      <td>0</td>\n",
       "      <td>2</td>\n",
       "      <td>2006</td>\n",
       "    </tr>\n",
       "    <tr>\n",
       "      <th>4</th>\n",
       "      <td>250000</td>\n",
       "      <td>14260</td>\n",
       "      <td>2000</td>\n",
       "      <td>1145</td>\n",
       "      <td>2</td>\n",
       "      <td>4</td>\n",
       "      <td>1</td>\n",
       "      <td>1</td>\n",
       "      <td>3</td>\n",
       "      <td>0</td>\n",
       "      <td>12</td>\n",
       "      <td>2008</td>\n",
       "    </tr>\n",
       "  </tbody>\n",
       "</table>\n",
       "</div>"
      ],
      "text/plain": [
       "   SalePrice  LotArea  YearBuilt  TotalBsmtSF  FullBath  BedroomAbvGr  \\\n",
       "0     208500     8450       2003          856         2             3   \n",
       "1     181500     9600       1976         1262         2             3   \n",
       "2     223500    11250       2001          920         2             3   \n",
       "3     140000     9550       1915          756         1             3   \n",
       "4     250000    14260       2000         1145         2             4   \n",
       "\n",
       "   KitchenAbvGr  Fireplaces  GarageCars  PoolArea  MoSold  YrSold  \n",
       "0             1           0           2         0       2    2008  \n",
       "1             1           1           2         0       5    2007  \n",
       "2             1           1           2         0       9    2008  \n",
       "3             1           1           3         0       2    2006  \n",
       "4             1           1           3         0      12    2008  "
      ]
     },
     "execution_count": 8,
     "metadata": {},
     "output_type": "execute_result"
    }
   ],
   "source": [
    "df2.head()"
   ]
  },
  {
   "cell_type": "markdown",
   "metadata": {},
   "source": [
    "# Drop NaN"
   ]
  },
  {
   "cell_type": "code",
   "execution_count": 9,
   "metadata": {
    "collapsed": false
   },
   "outputs": [],
   "source": [
    "df3=df2.dropna(axis=0)"
   ]
  },
  {
   "cell_type": "code",
   "execution_count": 10,
   "metadata": {
    "collapsed": false
   },
   "outputs": [
    {
     "data": {
      "text/html": [
       "<div>\n",
       "<table border=\"1\" class=\"dataframe\">\n",
       "  <thead>\n",
       "    <tr style=\"text-align: right;\">\n",
       "      <th></th>\n",
       "      <th>SalePrice</th>\n",
       "      <th>LotArea</th>\n",
       "      <th>YearBuilt</th>\n",
       "      <th>TotalBsmtSF</th>\n",
       "      <th>FullBath</th>\n",
       "      <th>BedroomAbvGr</th>\n",
       "      <th>KitchenAbvGr</th>\n",
       "      <th>Fireplaces</th>\n",
       "      <th>GarageCars</th>\n",
       "      <th>PoolArea</th>\n",
       "      <th>MoSold</th>\n",
       "      <th>YrSold</th>\n",
       "    </tr>\n",
       "  </thead>\n",
       "  <tbody>\n",
       "    <tr>\n",
       "      <th>0</th>\n",
       "      <td>208500</td>\n",
       "      <td>8450</td>\n",
       "      <td>2003</td>\n",
       "      <td>856</td>\n",
       "      <td>2</td>\n",
       "      <td>3</td>\n",
       "      <td>1</td>\n",
       "      <td>0</td>\n",
       "      <td>2</td>\n",
       "      <td>0</td>\n",
       "      <td>2</td>\n",
       "      <td>2008</td>\n",
       "    </tr>\n",
       "    <tr>\n",
       "      <th>1</th>\n",
       "      <td>181500</td>\n",
       "      <td>9600</td>\n",
       "      <td>1976</td>\n",
       "      <td>1262</td>\n",
       "      <td>2</td>\n",
       "      <td>3</td>\n",
       "      <td>1</td>\n",
       "      <td>1</td>\n",
       "      <td>2</td>\n",
       "      <td>0</td>\n",
       "      <td>5</td>\n",
       "      <td>2007</td>\n",
       "    </tr>\n",
       "    <tr>\n",
       "      <th>2</th>\n",
       "      <td>223500</td>\n",
       "      <td>11250</td>\n",
       "      <td>2001</td>\n",
       "      <td>920</td>\n",
       "      <td>2</td>\n",
       "      <td>3</td>\n",
       "      <td>1</td>\n",
       "      <td>1</td>\n",
       "      <td>2</td>\n",
       "      <td>0</td>\n",
       "      <td>9</td>\n",
       "      <td>2008</td>\n",
       "    </tr>\n",
       "    <tr>\n",
       "      <th>3</th>\n",
       "      <td>140000</td>\n",
       "      <td>9550</td>\n",
       "      <td>1915</td>\n",
       "      <td>756</td>\n",
       "      <td>1</td>\n",
       "      <td>3</td>\n",
       "      <td>1</td>\n",
       "      <td>1</td>\n",
       "      <td>3</td>\n",
       "      <td>0</td>\n",
       "      <td>2</td>\n",
       "      <td>2006</td>\n",
       "    </tr>\n",
       "    <tr>\n",
       "      <th>4</th>\n",
       "      <td>250000</td>\n",
       "      <td>14260</td>\n",
       "      <td>2000</td>\n",
       "      <td>1145</td>\n",
       "      <td>2</td>\n",
       "      <td>4</td>\n",
       "      <td>1</td>\n",
       "      <td>1</td>\n",
       "      <td>3</td>\n",
       "      <td>0</td>\n",
       "      <td>12</td>\n",
       "      <td>2008</td>\n",
       "    </tr>\n",
       "  </tbody>\n",
       "</table>\n",
       "</div>"
      ],
      "text/plain": [
       "   SalePrice  LotArea  YearBuilt  TotalBsmtSF  FullBath  BedroomAbvGr  \\\n",
       "0     208500     8450       2003          856         2             3   \n",
       "1     181500     9600       1976         1262         2             3   \n",
       "2     223500    11250       2001          920         2             3   \n",
       "3     140000     9550       1915          756         1             3   \n",
       "4     250000    14260       2000         1145         2             4   \n",
       "\n",
       "   KitchenAbvGr  Fireplaces  GarageCars  PoolArea  MoSold  YrSold  \n",
       "0             1           0           2         0       2    2008  \n",
       "1             1           1           2         0       5    2007  \n",
       "2             1           1           2         0       9    2008  \n",
       "3             1           1           3         0       2    2006  \n",
       "4             1           1           3         0      12    2008  "
      ]
     },
     "execution_count": 10,
     "metadata": {},
     "output_type": "execute_result"
    }
   ],
   "source": [
    "df3.head()"
   ]
  },
  {
   "cell_type": "markdown",
   "metadata": {},
   "source": [
    "# Convert Dataframe to Numpy array"
   ]
  },
  {
   "cell_type": "code",
   "execution_count": 11,
   "metadata": {
    "collapsed": true
   },
   "outputs": [],
   "source": [
    "X=df3.as_matrix([df3.columns[1:]])"
   ]
  },
  {
   "cell_type": "code",
   "execution_count": 12,
   "metadata": {
    "collapsed": true
   },
   "outputs": [],
   "source": [
    "y=df3.as_matrix([\"SalePrice\"])"
   ]
  },
  {
   "cell_type": "code",
   "execution_count": 13,
   "metadata": {
    "collapsed": false
   },
   "outputs": [
    {
     "data": {
      "text/plain": [
       "(999L, 1L)"
      ]
     },
     "execution_count": 13,
     "metadata": {},
     "output_type": "execute_result"
    }
   ],
   "source": [
    "y.shape"
   ]
  },
  {
   "cell_type": "code",
   "execution_count": 14,
   "metadata": {
    "collapsed": true
   },
   "outputs": [],
   "source": [
    "y=y.reshape(-1)"
   ]
  },
  {
   "cell_type": "code",
   "execution_count": 15,
   "metadata": {
    "collapsed": false
   },
   "outputs": [
    {
     "data": {
      "text/plain": [
       "(999L,)"
      ]
     },
     "execution_count": 15,
     "metadata": {},
     "output_type": "execute_result"
    }
   ],
   "source": [
    "y.shape"
   ]
  },
  {
   "cell_type": "code",
   "execution_count": 16,
   "metadata": {
    "collapsed": false
   },
   "outputs": [
    {
     "data": {
      "text/plain": [
       "(999L, 11L)"
      ]
     },
     "execution_count": 16,
     "metadata": {},
     "output_type": "execute_result"
    }
   ],
   "source": [
    "X.shape"
   ]
  },
  {
   "cell_type": "markdown",
   "metadata": {},
   "source": [
    "# Construct Classifier"
   ]
  },
  {
   "cell_type": "code",
   "execution_count": 17,
   "metadata": {
    "collapsed": false
   },
   "outputs": [
    {
     "name": "stderr",
     "output_type": "stream",
     "text": [
      "C:\\Users\\asus\\Anaconda2\\lib\\site-packages\\sklearn\\cross_validation.py:44: DeprecationWarning: This module was deprecated in version 0.18 in favor of the model_selection module into which all the refactored classes and functions are moved. Also note that the interface of the new CV iterators are different from that of this module. This module will be removed in 0.20.\n",
      "  \"This module will be removed in 0.20.\", DeprecationWarning)\n"
     ]
    }
   ],
   "source": [
    "from sklearn.ensemble import ExtraTreesClassifier\n",
    "from sklearn.cross_validation import cross_val_score"
   ]
  },
  {
   "cell_type": "code",
   "execution_count": 18,
   "metadata": {
    "collapsed": false
   },
   "outputs": [],
   "source": [
    "forest = ExtraTreesClassifier(n_estimators=250,random_state=0)"
   ]
  },
  {
   "cell_type": "markdown",
   "metadata": {},
   "source": [
    "# Lazy k-fold cross-valivation"
   ]
  },
  {
   "cell_type": "code",
   "execution_count": 19,
   "metadata": {
    "collapsed": false
   },
   "outputs": [
    {
     "name": "stderr",
     "output_type": "stream",
     "text": [
      "C:\\Users\\asus\\Anaconda2\\lib\\site-packages\\sklearn\\cross_validation.py:552: Warning: The least populated class in y has only 1 members, which is too few. The minimum number of labels for any class cannot be less than n_folds=3.\n",
      "  % (min_labels, self.n_folds)), Warning)\n"
     ]
    },
    {
     "data": {
      "text/plain": [
       "array([ 0.00482315,  0.01652893,  0.00740741])"
      ]
     },
     "execution_count": 19,
     "metadata": {},
     "output_type": "execute_result"
    }
   ],
   "source": [
    "cross_val_score(forest, X, y)"
   ]
  },
  {
   "cell_type": "markdown",
   "metadata": {},
   "source": [
    "# Training"
   ]
  },
  {
   "cell_type": "code",
   "execution_count": 20,
   "metadata": {
    "collapsed": false
   },
   "outputs": [
    {
     "data": {
      "text/plain": [
       "ExtraTreesClassifier(bootstrap=False, class_weight=None, criterion='gini',\n",
       "           max_depth=None, max_features='auto', max_leaf_nodes=None,\n",
       "           min_impurity_split=1e-07, min_samples_leaf=1,\n",
       "           min_samples_split=2, min_weight_fraction_leaf=0.0,\n",
       "           n_estimators=250, n_jobs=1, oob_score=False, random_state=0,\n",
       "           verbose=0, warm_start=False)"
      ]
     },
     "execution_count": 20,
     "metadata": {},
     "output_type": "execute_result"
    }
   ],
   "source": [
    "forest.fit(X,y)"
   ]
  },
  {
   "cell_type": "markdown",
   "metadata": {},
   "source": [
    "# Example Prediction\n",
    "predict = forest.predict([ Area , YearBuilt , BasementArea ,Bath , Bedroom , Kitchen , Fireplaces , GarageCars , PoolArea , MonthSold , YearSold ])\n",
    "\t\n",
    "\t\n",
    "\t\n",
    "\t\n",
    "\t\n",
    "\t\n",
    "\t\n",
    "\t\n",
    "\t\n"
   ]
  },
  {
   "cell_type": "markdown",
   "metadata": {},
   "source": [
    "# Prediction"
   ]
  },
  {
   "cell_type": "code",
   "execution_count": 21,
   "metadata": {
    "collapsed": false,
    "scrolled": true
   },
   "outputs": [
    {
     "name": "stdout",
     "output_type": "stream",
     "text": [
      "House Prices: [183500] Dollar\n"
     ]
    },
    {
     "name": "stderr",
     "output_type": "stream",
     "text": [
      "C:\\Users\\asus\\Anaconda2\\lib\\site-packages\\sklearn\\utils\\validation.py:395: DeprecationWarning: Passing 1d arrays as data is deprecated in 0.17 and will raise ValueError in 0.19. Reshape your data either using X.reshape(-1, 1) if your data has a single feature or X.reshape(1, -1) if it contains a single sample.\n",
      "  DeprecationWarning)\n"
     ]
    }
   ],
   "source": [
    "#predict = forest.predict([ Area , YearBuilt , BasementArea ,Bath , Bedroom , Kitchen , Fireplaces , GarageCars , PoolArea , MonthSold , YearSold ])\n",
    "predict = forest.predict([8500 , 2000 , 540 , 2 , 3 , 1 , 1 , 2 , 500 , 5 , 2007])\n",
    "print \"House Prices:\" , predict , \"Dollar\""
   ]
  },
  {
   "cell_type": "code",
   "execution_count": 22,
   "metadata": {
    "collapsed": false
   },
   "outputs": [
    {
     "name": "stderr",
     "output_type": "stream",
     "text": [
      "C:\\Users\\asus\\Anaconda2\\lib\\site-packages\\sklearn\\utils\\validation.py:395: DeprecationWarning: Passing 1d arrays as data is deprecated in 0.17 and will raise ValueError in 0.19. Reshape your data either using X.reshape(-1, 1) if your data has a single feature or X.reshape(1, -1) if it contains a single sample.\n",
      "  DeprecationWarning)\n"
     ]
    },
    {
     "name": "stdout",
     "output_type": "stream",
     "text": [
      "House Prices: [112000] Dollar\n"
     ]
    }
   ],
   "source": [
    "#predict = forest.predict([ Area , YearBuilt , BasementArea ,Bath , Bedroom , Kitchen , Fireplaces , GarageCars , PoolArea , MonthSold , YearSold ])\n",
    "predict = forest.predict([5000 , 1994 , 0 , 2 , 2 , 1 , 0 , 1 , 0 , 1 , 2002])\n",
    "print \"House Prices:\" , predict , \"Dollar\""
   ]
  },
  {
   "cell_type": "code",
   "execution_count": 23,
   "metadata": {
    "collapsed": false
   },
   "outputs": [
    {
     "name": "stdout",
     "output_type": "stream",
     "text": [
      "House Prices: [206300] Dollar\n"
     ]
    },
    {
     "name": "stderr",
     "output_type": "stream",
     "text": [
      "C:\\Users\\asus\\Anaconda2\\lib\\site-packages\\sklearn\\utils\\validation.py:395: DeprecationWarning: Passing 1d arrays as data is deprecated in 0.17 and will raise ValueError in 0.19. Reshape your data either using X.reshape(-1, 1) if your data has a single feature or X.reshape(1, -1) if it contains a single sample.\n",
      "  DeprecationWarning)\n"
     ]
    }
   ],
   "source": [
    "#predict = forest.predict([ Area , YearBuilt , BasementArea ,Bath , Bedroom , Kitchen , Fireplaces , GarageCars , PoolArea , MonthSold , YearSold ])\n",
    "predict = forest.predict([9750 , 2008 , 1200 , 6 , 4 , 2 , 1 , 6 , 650 , 5 , 2012])\n",
    "print \"House Prices:\" , predict , \"Dollar\""
   ]
  },
  {
   "cell_type": "code",
   "execution_count": 24,
   "metadata": {
    "collapsed": false
   },
   "outputs": [
    {
     "name": "stderr",
     "output_type": "stream",
     "text": [
      "C:\\Users\\asus\\Anaconda2\\lib\\site-packages\\sklearn\\utils\\validation.py:395: DeprecationWarning: Passing 1d arrays as data is deprecated in 0.17 and will raise ValueError in 0.19. Reshape your data either using X.reshape(-1, 1) if your data has a single feature or X.reshape(1, -1) if it contains a single sample.\n",
      "  DeprecationWarning)\n"
     ]
    },
    {
     "name": "stdout",
     "output_type": "stream",
     "text": [
      "House Prices: [84500] Dollar\n"
     ]
    }
   ],
   "source": [
    "#predict = forest.predict([ Area , YearBuilt , BasementArea ,Bath , Bedroom , Kitchen , Fireplaces , GarageCars , PoolArea , MonthSold , YearSold ])\n",
    "predict = forest.predict([3250 , 1985 , 450 , 1 , 1 , 1 , 0 , 0 , 0 , 12 , 1999])\n",
    "print \"House Prices:\" , predict , \"Dollar\""
   ]
  },
  {
   "cell_type": "code",
   "execution_count": 25,
   "metadata": {
    "collapsed": false
   },
   "outputs": [
    {
     "name": "stderr",
     "output_type": "stream",
     "text": [
      "C:\\Users\\asus\\Anaconda2\\lib\\site-packages\\sklearn\\utils\\validation.py:395: DeprecationWarning: Passing 1d arrays as data is deprecated in 0.17 and will raise ValueError in 0.19. Reshape your data either using X.reshape(-1, 1) if your data has a single feature or X.reshape(1, -1) if it contains a single sample.\n",
      "  DeprecationWarning)\n"
     ]
    },
    {
     "name": "stdout",
     "output_type": "stream",
     "text": [
      "House Prices: [438780] Dollar\n"
     ]
    }
   ],
   "source": [
    "#predict = forest.predict([ Area , YearBuilt , BasementArea ,Bath , Bedroom , Kitchen , Fireplaces , GarageCars , PoolArea , MonthSold , YearSold ])\n",
    "predict = forest.predict([15400 , 2008 , 870 , 3 , 2 , 1 , 1 , 3 , 850 , 8 , 2009])\n",
    "print \"House Prices:\" , predict , \"Dollar\""
   ]
  },
  {
   "cell_type": "code",
   "execution_count": null,
   "metadata": {
    "collapsed": true
   },
   "outputs": [],
   "source": []
  }
 ],
 "metadata": {
  "kernelspec": {
   "display_name": "Python 2",
   "language": "python",
   "name": "python2"
  },
  "language_info": {
   "codemirror_mode": {
    "name": "ipython",
    "version": 2
   },
   "file_extension": ".py",
   "mimetype": "text/x-python",
   "name": "python",
   "nbconvert_exporter": "python",
   "pygments_lexer": "ipython2",
   "version": "2.7.13"
  }
 },
 "nbformat": 4,
 "nbformat_minor": 2
}
